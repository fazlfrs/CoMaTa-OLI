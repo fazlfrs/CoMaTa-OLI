{
  "nbformat": 4,
  "nbformat_minor": 0,
  "metadata": {
    "kernelspec": {
      "language": "python",
      "display_name": "Python 3",
      "name": "python3"
    },
    "language_info": {
      "name": "python",
      "version": "3.7.9",
      "mimetype": "text/x-python",
      "codemirror_mode": {
        "name": "ipython",
        "version": 3
      },
      "pygments_lexer": "ipython3",
      "nbconvert_exporter": "python",
      "file_extension": ".py"
    },
    "colab": {
      "name": "hasoc-dravidian-fire2021-final.ipynb",
      "provenance": [],
      "collapsed_sections": []
    },
    "accelerator": "GPU"
  },
  "cells": [
    {
      "cell_type": "code",
      "metadata": {
        "id": "ORdDiS_LV4o8"
      },
      "source": [
        ""
      ],
      "execution_count": null,
      "outputs": []
    },
    {
      "cell_type": "code",
      "metadata": {
        "colab": {
          "base_uri": "https://localhost:8080/"
        },
        "id": "MPENWWd6V7d3",
        "outputId": "b86c8d1f-8014-4532-dba2-e2af07b81547"
      },
      "source": [
        "from google.colab import drive\n",
        "drive.mount('/content/drive')"
      ],
      "execution_count": 1,
      "outputs": [
        {
          "output_type": "stream",
          "text": [
            "Mounted at /content/drive\n"
          ],
          "name": "stdout"
        }
      ]
    },
    {
      "cell_type": "code",
      "metadata": {
        "trusted": true,
        "colab": {
          "base_uri": "https://localhost:8080/"
        },
        "id": "T87DIVsaVw_u",
        "outputId": "9be8acf3-4d3a-4ec2-ea5b-7883039b94ef"
      },
      "source": [
        "!pip install openpyxl\n"
      ],
      "execution_count": 2,
      "outputs": [
        {
          "output_type": "stream",
          "text": [
            "Requirement already satisfied: openpyxl in /usr/local/lib/python3.7/dist-packages (2.5.9)\n",
            "Requirement already satisfied: et-xmlfile in /usr/local/lib/python3.7/dist-packages (from openpyxl) (1.1.0)\n",
            "Requirement already satisfied: jdcal in /usr/local/lib/python3.7/dist-packages (from openpyxl) (1.4.1)\n"
          ],
          "name": "stdout"
        }
      ]
    },
    {
      "cell_type": "code",
      "metadata": {
        "execution": {
          "iopub.status.busy": "2021-06-24T07:11:31.810080Z",
          "iopub.execute_input": "2021-06-24T07:11:31.810531Z",
          "iopub.status.idle": "2021-06-24T07:11:32.755123Z",
          "shell.execute_reply.started": "2021-06-24T07:11:31.810487Z",
          "shell.execute_reply": "2021-06-24T07:11:32.753559Z"
        },
        "trusted": true,
        "colab": {
          "base_uri": "https://localhost:8080/"
        },
        "id": "i7q35zZeVw_z",
        "outputId": "0e53825b-05c7-4606-fc46-baab01964633"
      },
      "source": [
        "import pandas as pd\n",
        "train_t1_tamil=pd.read_csv('/content/drive/MyDrive/FIRE 2021/Offensive Language Identification for Dravidian Languages in Code-Mixed Text/task1-tamil/tamil_offensive_train.tsv',sep='\\t')\n",
        "train_t2_tamil=pd.read_excel('/content/drive/MyDrive/FIRE 2021/Offensive Language Identification for Dravidian Languages in Code-Mixed Text/task2-tamil-english,malayalam-english/train_hasoc_tamil_task2_withlabels.xlsx', engine='openpyxl',names=['id','text','category'])\n",
        "train_t2_mal=pd.read_excel('/content/drive/MyDrive/FIRE 2021/Offensive Language Identification for Dravidian Languages in Code-Mixed Text/task2-tamil-english,malayalam-english/train_hasoc_mal_task2_withlabels.xlsx', engine='openpyxl')\n",
        "\n",
        "print(len(train_t1_tamil),len(train_t2_tamil),len(train_t2_mal))\n",
        "\n",
        "train_t1_tamil=train_t1_tamil.dropna()\n",
        "train_t2_tamil=train_t2_tamil.dropna()\n",
        "train_t2_mal=train_t2_mal.dropna()\n",
        "len(train_t1_tamil),len(train_t2_tamil),len(train_t2_mal)\n"
      ],
      "execution_count": 3,
      "outputs": [
        {
          "output_type": "stream",
          "text": [
            "5880 3999 4000\n"
          ],
          "name": "stdout"
        },
        {
          "output_type": "execute_result",
          "data": {
            "text/plain": [
              "(5880, 3999, 3999)"
            ]
          },
          "metadata": {
            "tags": []
          },
          "execution_count": 3
        }
      ]
    },
    {
      "cell_type": "code",
      "metadata": {
        "execution": {
          "iopub.status.busy": "2021-06-24T07:11:32.757109Z",
          "iopub.execute_input": "2021-06-24T07:11:32.757534Z",
          "iopub.status.idle": "2021-06-24T07:11:32.771081Z",
          "shell.execute_reply.started": "2021-06-24T07:11:32.757490Z",
          "shell.execute_reply": "2021-06-24T07:11:32.769543Z"
        },
        "trusted": true,
        "colab": {
          "base_uri": "https://localhost:8080/",
          "height": 206
        },
        "id": "-frEukjWVw_2",
        "outputId": "2ab684e7-72ff-4328-d713-ce9444afbb7f"
      },
      "source": [
        "train_t2_mal.head()#.category.value_counts()"
      ],
      "execution_count": 4,
      "outputs": [
        {
          "output_type": "execute_result",
          "data": {
            "text/html": [
              "<div>\n",
              "<style scoped>\n",
              "    .dataframe tbody tr th:only-of-type {\n",
              "        vertical-align: middle;\n",
              "    }\n",
              "\n",
              "    .dataframe tbody tr th {\n",
              "        vertical-align: top;\n",
              "    }\n",
              "\n",
              "    .dataframe thead th {\n",
              "        text-align: right;\n",
              "    }\n",
              "</style>\n",
              "<table border=\"1\" class=\"dataframe\">\n",
              "  <thead>\n",
              "    <tr style=\"text-align: right;\">\n",
              "      <th></th>\n",
              "      <th>ID</th>\n",
              "      <th>Tweets</th>\n",
              "      <th>Labels</th>\n",
              "    </tr>\n",
              "  </thead>\n",
              "  <tbody>\n",
              "    <tr>\n",
              "      <th>0</th>\n",
              "      <td>MA_YT001</td>\n",
              "      <td>Thaankal enthaan cheyyarullath?😛</td>\n",
              "      <td>NOT</td>\n",
              "    </tr>\n",
              "    <tr>\n",
              "      <th>1</th>\n",
              "      <td>MA_YT002</td>\n",
              "      <td>Ee theetam WCC feminichigalude news aarkk vena...</td>\n",
              "      <td>OFF</td>\n",
              "    </tr>\n",
              "    <tr>\n",
              "      <th>2</th>\n",
              "      <td>MA_YT003</td>\n",
              "      <td>fukru nem tiktok oolakale vilich charcha nadat...</td>\n",
              "      <td>OFF</td>\n",
              "    </tr>\n",
              "    <tr>\n",
              "      <th>3</th>\n",
              "      <td>MA_YT004</td>\n",
              "      <td>Aashiq abu produce cheytharunnel ee problems u...</td>\n",
              "      <td>NOT</td>\n",
              "    </tr>\n",
              "    <tr>\n",
              "      <th>4</th>\n",
              "      <td>MA_YT005</td>\n",
              "      <td>Pennungal oru team aayal ath moonjum ennu epoo...</td>\n",
              "      <td>OFF</td>\n",
              "    </tr>\n",
              "  </tbody>\n",
              "</table>\n",
              "</div>"
            ],
            "text/plain": [
              "         ID                                             Tweets Labels\n",
              "0  MA_YT001                   Thaankal enthaan cheyyarullath?😛    NOT\n",
              "1  MA_YT002  Ee theetam WCC feminichigalude news aarkk vena...    OFF\n",
              "2  MA_YT003  fukru nem tiktok oolakale vilich charcha nadat...    OFF\n",
              "3  MA_YT004  Aashiq abu produce cheytharunnel ee problems u...    NOT\n",
              "4  MA_YT005  Pennungal oru team aayal ath moonjum ennu epoo...    OFF"
            ]
          },
          "metadata": {
            "tags": []
          },
          "execution_count": 4
        }
      ]
    },
    {
      "cell_type": "code",
      "metadata": {
        "execution": {
          "iopub.status.busy": "2021-06-24T07:11:32.772986Z",
          "iopub.execute_input": "2021-06-24T07:11:32.774008Z",
          "iopub.status.idle": "2021-06-24T07:11:32.805123Z",
          "shell.execute_reply.started": "2021-06-24T07:11:32.773958Z",
          "shell.execute_reply": "2021-06-24T07:11:32.803872Z"
        },
        "trusted": true,
        "colab": {
          "base_uri": "https://localhost:8080/"
        },
        "id": "JB1CoF0pVw_4",
        "outputId": "43af2b21-9228-44dd-c5ff-a34e11d0a9e2"
      },
      "source": [
        "dev_t2_tamil=pd.read_csv('/content/drive/MyDrive/FIRE 2021/Offensive Language Identification for Dravidian Languages in Code-Mixed Text/task2-tamil-english,malayalam-english/dev_hasoc_tamil_task2_withlabels.tsv', sep='\\t',names=['id','tweets','Labels'])\n",
        "dev_t2_mal=pd.read_csv('/content/drive/MyDrive/FIRE 2021/Offensive Language Identification for Dravidian Languages in Code-Mixed Text/task2-tamil-english,malayalam-english/dev_hasoc_mal_task2_withlabels.tsv',sep='\\t',names=['id','tweets','Labels'])\n",
        "\n",
        "print(len(dev_t2_tamil),len(dev_t2_mal))\n",
        "\n",
        "dev_t2_tamil=dev_t2_tamil.dropna()\n",
        "dev_t2_mal=dev_t2_mal.dropna()\n",
        "\n",
        "len(dev_t2_tamil),len(dev_t2_mal)\n"
      ],
      "execution_count": 5,
      "outputs": [
        {
          "output_type": "stream",
          "text": [
            "1000 951\n"
          ],
          "name": "stdout"
        },
        {
          "output_type": "execute_result",
          "data": {
            "text/plain": [
              "(940, 951)"
            ]
          },
          "metadata": {
            "tags": []
          },
          "execution_count": 5
        }
      ]
    },
    {
      "cell_type": "code",
      "metadata": {
        "execution": {
          "iopub.status.busy": "2021-06-24T07:11:32.806997Z",
          "iopub.execute_input": "2021-06-24T07:11:32.807538Z",
          "iopub.status.idle": "2021-06-24T07:11:32.819567Z",
          "shell.execute_reply.started": "2021-06-24T07:11:32.807476Z",
          "shell.execute_reply": "2021-06-24T07:11:32.818216Z"
        },
        "trusted": true,
        "colab": {
          "base_uri": "https://localhost:8080/"
        },
        "id": "KiOC4ms1Vw_5",
        "outputId": "a863160e-8d8b-404f-ff41-1c6593b4571a"
      },
      "source": [
        "dev_t2_mal.Labels.value_counts()"
      ],
      "execution_count": 6,
      "outputs": [
        {
          "output_type": "execute_result",
          "data": {
            "text/plain": [
              "OFF    478\n",
              "NOT    473\n",
              "Name: Labels, dtype: int64"
            ]
          },
          "metadata": {
            "tags": []
          },
          "execution_count": 6
        }
      ]
    },
    {
      "cell_type": "code",
      "metadata": {
        "execution": {
          "iopub.status.busy": "2021-06-24T07:11:32.822226Z",
          "iopub.execute_input": "2021-06-24T07:11:32.822970Z",
          "iopub.status.idle": "2021-06-24T07:11:32.862060Z",
          "shell.execute_reply.started": "2021-06-24T07:11:32.822903Z",
          "shell.execute_reply": "2021-06-24T07:11:32.860848Z"
        },
        "trusted": true,
        "colab": {
          "base_uri": "https://localhost:8080/"
        },
        "id": "Rj2LyovQVw_7",
        "outputId": "32c451d0-92f3-403f-a448-2f57f65d3a28"
      },
      "source": [
        "test_t1_tamil=pd.read_csv('/content/drive/MyDrive/FIRE 2021/Offensive Language Identification for Dravidian Languages in Code-Mixed Text/task1-tamil/tamil_offensive_test task 1 with labels.tsv', sep='\\t')\n",
        "test_t2_tamil=pd.read_csv('/content/drive/MyDrive/FIRE 2021/Offensive Language Identification for Dravidian Languages in Code-Mixed Text/task2-tamil-english,malayalam-english/test_hasoc_tamil_task2_withlabels.tsv', sep='\\t',names=['id','text','category'])\n",
        "test_t2_mal=pd.read_csv('/content/drive/MyDrive/FIRE 2021/Offensive Language Identification for Dravidian Languages in Code-Mixed Text/task2-tamil-english,malayalam-english/test_hasoc_mal_task2_withlabels.xlsx - Sheet1.tsv',sep='\\t')\n",
        "\n",
        "print(len(test_t1_tamil),len(test_t2_tamil),len(test_t2_mal))\n",
        "\n",
        "test_t1_tamil=test_t1_tamil.dropna()\n",
        "test_t2_tamil=test_t2_tamil.dropna()\n",
        "test_t2_mal=test_t2_mal.dropna()\n",
        "\n",
        "len(test_t1_tamil),len(test_t2_tamil),len(test_t2_mal)\n"
      ],
      "execution_count": 16,
      "outputs": [
        {
          "output_type": "stream",
          "text": [
            "654 1001 999\n"
          ],
          "name": "stdout"
        },
        {
          "output_type": "execute_result",
          "data": {
            "text/plain": [
              "(654, 1000, 999)"
            ]
          },
          "metadata": {
            "tags": []
          },
          "execution_count": 16
        }
      ]
    },
    {
      "cell_type": "code",
      "metadata": {
        "execution": {
          "iopub.status.busy": "2021-06-24T07:11:32.864507Z",
          "iopub.execute_input": "2021-06-24T07:11:32.864967Z",
          "iopub.status.idle": "2021-06-24T07:11:32.878882Z",
          "shell.execute_reply.started": "2021-06-24T07:11:32.864925Z",
          "shell.execute_reply": "2021-06-24T07:11:32.876472Z"
        },
        "trusted": true,
        "colab": {
          "base_uri": "https://localhost:8080/",
          "height": 206
        },
        "id": "vIfIZtGkVw_9",
        "outputId": "afa1b686-6a08-40f7-c4be-e3c439b49c39"
      },
      "source": [
        "test_t2_mal.head()"
      ],
      "execution_count": 17,
      "outputs": [
        {
          "output_type": "execute_result",
          "data": {
            "text/html": [
              "<div>\n",
              "<style scoped>\n",
              "    .dataframe tbody tr th:only-of-type {\n",
              "        vertical-align: middle;\n",
              "    }\n",
              "\n",
              "    .dataframe tbody tr th {\n",
              "        vertical-align: top;\n",
              "    }\n",
              "\n",
              "    .dataframe thead th {\n",
              "        text-align: right;\n",
              "    }\n",
              "</style>\n",
              "<table border=\"1\" class=\"dataframe\">\n",
              "  <thead>\n",
              "    <tr style=\"text-align: right;\">\n",
              "      <th></th>\n",
              "      <th>ID</th>\n",
              "      <th>Tweets</th>\n",
              "      <th>Labels</th>\n",
              "    </tr>\n",
              "  </thead>\n",
              "  <tbody>\n",
              "    <tr>\n",
              "      <th>0</th>\n",
              "      <td>MA_YT6001</td>\n",
              "      <td>athe beharyku deputationil pokam pinarai vijay...</td>\n",
              "      <td>NOT</td>\n",
              "    </tr>\n",
              "    <tr>\n",
              "      <th>1</th>\n",
              "      <td>MA_YT6002</td>\n",
              "      <td>USER cheruparamadathil than thinnunnath alla p...</td>\n",
              "      <td>NOT</td>\n",
              "    </tr>\n",
              "    <tr>\n",
              "      <th>2</th>\n",
              "      <td>MA_YT6003</td>\n",
              "      <td>USER cheruparamadathilpinaraayi shournuril oru...</td>\n",
              "      <td>HOF</td>\n",
              "    </tr>\n",
              "    <tr>\n",
              "      <th>3</th>\n",
              "      <td>MA_YT6004</td>\n",
              "      <td>USER vk pinarai thinnunnathu ninte okke theett...</td>\n",
              "      <td>HOF</td>\n",
              "    </tr>\n",
              "    <tr>\n",
              "      <th>4</th>\n",
              "      <td>MA_YT6005</td>\n",
              "      <td>USER george thante ammade poottile pooda kalay...</td>\n",
              "      <td>HOF</td>\n",
              "    </tr>\n",
              "  </tbody>\n",
              "</table>\n",
              "</div>"
            ],
            "text/plain": [
              "          ID                                             Tweets Labels\n",
              "0  MA_YT6001  athe beharyku deputationil pokam pinarai vijay...    NOT\n",
              "1  MA_YT6002  USER cheruparamadathil than thinnunnath alla p...    NOT\n",
              "2  MA_YT6003  USER cheruparamadathilpinaraayi shournuril oru...    HOF\n",
              "3  MA_YT6004  USER vk pinarai thinnunnathu ninte okke theett...    HOF\n",
              "4  MA_YT6005  USER george thante ammade poottile pooda kalay...    HOF"
            ]
          },
          "metadata": {
            "tags": []
          },
          "execution_count": 17
        }
      ]
    },
    {
      "cell_type": "code",
      "metadata": {
        "execution": {
          "iopub.status.busy": "2021-06-24T07:11:32.881001Z",
          "iopub.execute_input": "2021-06-24T07:11:32.881464Z",
          "iopub.status.idle": "2021-06-24T07:11:40.666815Z",
          "shell.execute_reply.started": "2021-06-24T07:11:32.881418Z",
          "shell.execute_reply": "2021-06-24T07:11:40.665623Z"
        },
        "trusted": true,
        "colab": {
          "base_uri": "https://localhost:8080/"
        },
        "id": "W-00mzMIVw_-",
        "outputId": "e09c9549-241a-482b-b941-bccac9476b70"
      },
      "source": [
        "emoji=open('/content/drive/MyDrive/FIRE 2021/Offensive Language Identification for Dravidian Languages in Code-Mixed Text/emoji.txt',encoding='utf-8').read()\n",
        "unwanted=['ـ','_','\"','！',\"'\",'=','@','&','%','.',',',':','\\\\','$','^','<','>','!','?','{','}',';','\\n','\\t','(',')','[',']','/','*','+','#','\\u200c','\\ufeff','-','_','|']\n",
        "unwanted1=[\"''\",\"\\u200d\"]\n",
        "emo=\"\"\n",
        "\n",
        "for i in emoji:\n",
        "  if i not in unwanted and i not in unwanted1:\n",
        "    emo=emo+i\n",
        "emo=list(set(emo))\n",
        "\n",
        "#!pip install indic-nlp-library\n",
        "#!pip install stopwordsiso\n",
        "!pip install emoji\n",
        "import emoji as em\n",
        "import pandas as pd\n",
        "\n",
        "import string \n",
        "import re\n",
        "#from indicnlp.tokenize import indic_tokenize\n",
        "#import stopwordsiso as stopwords\n",
        "\n",
        "import nltk\n",
        "nltk.download('stopwords')\n",
        "nltk.download('wordnet')\n",
        "def clean(text):\n",
        "    '''repeat_pattern = re.compile(r'(\\w)\\1*') \n",
        "    match_substitution = r'\\1' \n",
        "    text=repeat_pattern.sub(match_substitution,text)'''\n",
        "    #text=text.replace('\\n',' ')\n",
        "    stpwrds=[]#open('/content/drive/MyDrive/Constraint@AAAI2021/stopwords-hi.txt').read().split('\\n')\n",
        "    punctuations = '''!()-[]{};:'\"\\,<>./?#$=%^012|345678”€¥`9‘+@“’&*_~''' + \"[\\.]\"*3+'\\U000e0067'\n",
        "    te=''\n",
        "    for char in str(text):\n",
        "        if char in emo:\n",
        "            char=em.demojize(char)\n",
        "            char=char.replace(\":\",\"\").replace('_',' ')\n",
        "            \n",
        "            #char=char+   \n",
        "        te=te+char\n",
        "    text=\"\".join([char for char in te if char not in punctuations and len(char)>0])   #string.punctuation\n",
        "    #print(text)\n",
        "    sent=[]\n",
        "    text=text.split(' ')\n",
        "    \n",
        "    for word in text:\n",
        "\n",
        "        if word not in stpwrds and len(word)>2:\n",
        "            #word=ps.stem(word)\n",
        "            #word=wn.lemmatize(word)\n",
        "            sent.append(word.lower())\n",
        "    return str(' '.join(sent).strip())"
      ],
      "execution_count": 18,
      "outputs": [
        {
          "output_type": "stream",
          "text": [
            "Requirement already satisfied: emoji in /usr/local/lib/python3.7/dist-packages (1.4.2)\n",
            "[nltk_data] Downloading package stopwords to /root/nltk_data...\n",
            "[nltk_data]   Package stopwords is already up-to-date!\n",
            "[nltk_data] Downloading package wordnet to /root/nltk_data...\n",
            "[nltk_data]   Package wordnet is already up-to-date!\n"
          ],
          "name": "stdout"
        }
      ]
    },
    {
      "cell_type": "code",
      "metadata": {
        "execution": {
          "iopub.status.busy": "2021-06-24T07:11:40.670481Z",
          "iopub.execute_input": "2021-06-24T07:11:40.670801Z",
          "iopub.status.idle": "2021-06-24T07:11:40.682746Z",
          "shell.execute_reply.started": "2021-06-24T07:11:40.670771Z",
          "shell.execute_reply": "2021-06-24T07:11:40.681607Z"
        },
        "trusted": true,
        "colab": {
          "base_uri": "https://localhost:8080/"
        },
        "id": "ZvpAV7AiVw__",
        "outputId": "c4a47396-b2ed-4fee-92c3-741620e031ba"
      },
      "source": [
        "print(train_t1_tamil.columns)\n",
        "print(train_t2_tamil.columns)\n",
        "print(train_t2_mal.columns)"
      ],
      "execution_count": 19,
      "outputs": [
        {
          "output_type": "stream",
          "text": [
            "Index(['id', 'text', 'category', 'cleaned'], dtype='object')\n",
            "Index(['id', 'text', 'category', 'cleaned'], dtype='object')\n",
            "Index(['ID', 'Tweets', 'Labels', 'cleaned'], dtype='object')\n"
          ],
          "name": "stdout"
        }
      ]
    },
    {
      "cell_type": "code",
      "metadata": {
        "execution": {
          "iopub.status.busy": "2021-06-24T07:11:40.686741Z",
          "iopub.execute_input": "2021-06-24T07:11:40.687202Z",
          "iopub.status.idle": "2021-06-24T07:11:40.698847Z",
          "shell.execute_reply.started": "2021-06-24T07:11:40.687172Z",
          "shell.execute_reply": "2021-06-24T07:11:40.697575Z"
        },
        "trusted": true,
        "colab": {
          "base_uri": "https://localhost:8080/"
        },
        "id": "MlI6AyZCVxAB",
        "outputId": "d338705e-9753-40f5-f2e6-a4ae3d405ec3"
      },
      "source": [
        "print(dev_t2_tamil.columns)\n",
        "print(dev_t2_mal.columns)"
      ],
      "execution_count": 20,
      "outputs": [
        {
          "output_type": "stream",
          "text": [
            "Index(['id', 'tweets', 'Labels', 'cleaned'], dtype='object')\n",
            "Index(['id', 'tweets', 'Labels', 'cleaned'], dtype='object')\n"
          ],
          "name": "stdout"
        }
      ]
    },
    {
      "cell_type": "code",
      "metadata": {
        "execution": {
          "iopub.status.busy": "2021-06-24T07:11:40.701039Z",
          "iopub.execute_input": "2021-06-24T07:11:40.701667Z",
          "iopub.status.idle": "2021-06-24T07:11:40.712723Z",
          "shell.execute_reply.started": "2021-06-24T07:11:40.701586Z",
          "shell.execute_reply": "2021-06-24T07:11:40.710725Z"
        },
        "trusted": true,
        "colab": {
          "base_uri": "https://localhost:8080/"
        },
        "id": "3XP9lI7VVxAC",
        "outputId": "48f69146-9f93-4cfc-cf59-d76e6a465a46"
      },
      "source": [
        "print(test_t1_tamil.columns)\n",
        "print(test_t2_tamil.columns)\n",
        "print(test_t2_mal.columns)"
      ],
      "execution_count": 21,
      "outputs": [
        {
          "output_type": "stream",
          "text": [
            "Index(['id', 'text', 'category'], dtype='object')\n",
            "Index(['id', 'text', 'category'], dtype='object')\n",
            "Index(['ID', 'Tweets', 'Labels'], dtype='object')\n"
          ],
          "name": "stdout"
        }
      ]
    },
    {
      "cell_type": "code",
      "metadata": {
        "execution": {
          "iopub.status.busy": "2021-06-24T07:11:40.715669Z",
          "iopub.execute_input": "2021-06-24T07:11:40.716239Z",
          "iopub.status.idle": "2021-06-24T07:12:15.790326Z",
          "shell.execute_reply.started": "2021-06-24T07:11:40.716118Z",
          "shell.execute_reply": "2021-06-24T07:12:15.789064Z"
        },
        "trusted": true,
        "id": "LVF4v8uHVxAD"
      },
      "source": [
        "train_t1_tamil['cleaned']=[clean(x) for x in train_t1_tamil.text]\n",
        "train_t2_tamil['cleaned']=[clean(x) for x in train_t2_tamil.text]\n",
        "train_t2_mal['cleaned']=[clean(x) for x in train_t2_mal.Tweets]\n",
        "\n",
        "\n",
        "dev_t2_tamil['cleaned']=[clean(x) for x in dev_t2_tamil.tweets]\n",
        "dev_t2_mal['cleaned']=[clean(x) for x in dev_t2_mal.tweets]\n",
        "\n",
        "\n",
        "test_t1_tamil['cleaned']=[clean(x) for x in test_t1_tamil.text]\n",
        "test_t2_tamil['cleaned']=[clean(x) for x in test_t2_tamil.text]\n",
        "test_t2_mal['cleaned']=[clean(x) for x in test_t2_mal.Tweets]"
      ],
      "execution_count": 23,
      "outputs": []
    },
    {
      "cell_type": "code",
      "metadata": {
        "execution": {
          "iopub.status.busy": "2021-06-24T07:12:15.792339Z",
          "iopub.execute_input": "2021-06-24T07:12:15.792834Z",
          "iopub.status.idle": "2021-06-24T07:12:16.977726Z",
          "shell.execute_reply.started": "2021-06-24T07:12:15.792777Z",
          "shell.execute_reply": "2021-06-24T07:12:16.976697Z"
        },
        "trusted": true,
        "id": "7YL9R6EbVxAD"
      },
      "source": [
        "from sklearn import model_selection, preprocessing, metrics, svm\n",
        "from sklearn.feature_extraction.text import CountVectorizer\n",
        "from sklearn import decomposition, ensemble\n",
        "\n",
        "import pandas as pd\n",
        "import numpy as np\n",
        "\n",
        "import string\n",
        "\n",
        "import matplotlib.pyplot as plt\n",
        "import seaborn as sns\n",
        "%matplotlib inline\n",
        "\n",
        "import xgboost\n",
        "#from keras.preprocessing import text, sequence\n",
        "#from keras import layers, models, optimizers\n",
        "from sklearn.feature_extraction.text import CountVectorizer,TfidfVectorizer,HashingVectorizer\n",
        "\n"
      ],
      "execution_count": 15,
      "outputs": []
    },
    {
      "cell_type": "code",
      "metadata": {
        "id": "xRLSoOFWVxAD"
      },
      "source": [
        ""
      ],
      "execution_count": null,
      "outputs": []
    },
    {
      "cell_type": "markdown",
      "metadata": {
        "id": "b4L-CprjVxAF"
      },
      "source": [
        "**T1-Tamil**"
      ]
    },
    {
      "cell_type": "code",
      "metadata": {
        "id": "WBQEFmE9a6rE"
      },
      "source": [
        "tr=train_t1_tamil\n",
        "dev=train_t1_tamil\n",
        "te=test_t1_tamil\n",
        "\n",
        "y_train=[x.upper() for x in tr.category]\n",
        "y_dev=[x.upper() for x in dev.category]\n",
        "y_test=te.category"
      ],
      "execution_count": 27,
      "outputs": []
    },
    {
      "cell_type": "code",
      "metadata": {
        "execution": {
          "iopub.status.busy": "2021-06-24T07:14:00.334681Z",
          "iopub.execute_input": "2021-06-24T07:14:00.335095Z",
          "iopub.status.idle": "2021-06-24T07:14:04.734757Z",
          "shell.execute_reply.started": "2021-06-24T07:14:00.335062Z",
          "shell.execute_reply": "2021-06-24T07:14:04.732997Z"
        },
        "trusted": true,
        "id": "y75Oup2AVxAF"
      },
      "source": [
        "sentences=list(tr.cleaned)\n",
        "from scipy.sparse import hstack\n",
        "word_vectorizer = TfidfVectorizer(\n",
        "    sublinear_tf=True,\n",
        "    strip_accents='unicode',\n",
        "    analyzer='word',\n",
        "    ngram_range=(1, 3),\n",
        "    max_features=40000)\n",
        "word_vectorizer.fit(sentences)\n",
        "\n",
        "char_vectorizer = TfidfVectorizer(\n",
        "    sublinear_tf=True,\n",
        "    strip_accents='unicode',\n",
        "    analyzer='char',\n",
        "    ngram_range=(2, 5),\n",
        "    max_features=40000)\n",
        "char_vectorizer.fit(sentences)\n",
        "\n",
        "\n",
        "\n",
        "train_word_features = word_vectorizer.transform(tr.cleaned)\n",
        "dev_word_features = word_vectorizer.transform(dev.cleaned)\n",
        "test_word_features = word_vectorizer.transform(te.cleaned)\n",
        "\n",
        "\n",
        "train_char_features = char_vectorizer.transform(tr.cleaned)\n",
        "dev_char_features = char_vectorizer.transform(dev.cleaned)\n",
        "test_char_features = char_vectorizer.transform(te.cleaned)\n",
        "\n",
        "\n",
        "\n",
        "\n",
        "x_train = hstack([train_char_features, train_word_features])#,train_sn_features])\n",
        "x_dev=hstack([dev_char_features, dev_word_features])\n",
        "x_test = hstack([test_char_features, test_word_features])#,test_sn_features])\n",
        "\n",
        "\n",
        "         \n"
      ],
      "execution_count": 28,
      "outputs": []
    },
    {
      "cell_type": "code",
      "metadata": {
        "execution": {
          "iopub.status.busy": "2021-06-24T07:14:04.741455Z",
          "iopub.execute_input": "2021-06-24T07:14:04.741933Z",
          "iopub.status.idle": "2021-06-24T07:14:04.760953Z",
          "shell.execute_reply.started": "2021-06-24T07:14:04.741887Z",
          "shell.execute_reply": "2021-06-24T07:14:04.759587Z"
        },
        "trusted": true,
        "colab": {
          "base_uri": "https://localhost:8080/"
        },
        "id": "O83SygunVxAG",
        "outputId": "8b85bc64-2379-4a1b-b914-a6884ed599d4"
      },
      "source": [
        "x_train.shape,x_dev.shape,x_test.shape"
      ],
      "execution_count": 29,
      "outputs": [
        {
          "output_type": "execute_result",
          "data": {
            "text/plain": [
              "((5880, 80000), (5880, 80000), (654, 80000))"
            ]
          },
          "metadata": {
            "tags": []
          },
          "execution_count": 29
        }
      ]
    },
    {
      "cell_type": "code",
      "metadata": {
        "execution": {
          "iopub.status.busy": "2021-06-24T07:14:10.323299Z",
          "iopub.execute_input": "2021-06-24T07:14:10.323728Z",
          "iopub.status.idle": "2021-06-24T07:14:11.884126Z",
          "shell.execute_reply.started": "2021-06-24T07:14:10.323686Z",
          "shell.execute_reply": "2021-06-24T07:14:11.882541Z"
        },
        "trusted": true,
        "colab": {
          "base_uri": "https://localhost:8080/"
        },
        "id": "g-XHC6F7VxAG",
        "outputId": "77d66898-9a32-4a41-9441-ec64362be7e6"
      },
      "source": [
        "from sklearn.ensemble import VotingClassifier\n",
        "from sklearn.linear_model import LogisticRegression\n",
        "from sklearn.svm import LinearSVC,SVC\n",
        "from sklearn.metrics import accuracy_score, confusion_matrix, classification_report, f1_score\n",
        "\n",
        "\n",
        "lr=LogisticRegression(C=30)\n",
        "lr.fit(x_train, y_train)\n",
        "y_pred = lr.predict(x_dev) \n",
        "print(classification_report(y_dev, y_pred,digits=4))"
      ],
      "execution_count": 30,
      "outputs": [
        {
          "output_type": "stream",
          "text": [
            "              precision    recall  f1-score   support\n",
            "\n",
            "         NOT     0.9994    0.9994    0.9994      4724\n",
            "   NOT-TAMIL     1.0000    1.0000    1.0000         3\n",
            "         OFF     0.9974    0.9974    0.9974      1153\n",
            "\n",
            "    accuracy                         0.9990      5880\n",
            "   macro avg     0.9989    0.9989    0.9989      5880\n",
            "weighted avg     0.9990    0.9990    0.9990      5880\n",
            "\n"
          ],
          "name": "stdout"
        },
        {
          "output_type": "stream",
          "text": [
            "/usr/local/lib/python3.7/dist-packages/sklearn/linear_model/_logistic.py:940: ConvergenceWarning: lbfgs failed to converge (status=1):\n",
            "STOP: TOTAL NO. of ITERATIONS REACHED LIMIT.\n",
            "\n",
            "Increase the number of iterations (max_iter) or scale the data as shown in:\n",
            "    https://scikit-learn.org/stable/modules/preprocessing.html\n",
            "Please also refer to the documentation for alternative solver options:\n",
            "    https://scikit-learn.org/stable/modules/linear_model.html#logistic-regression\n",
            "  extra_warning_msg=_LOGISTIC_SOLVER_CONVERGENCE_MSG)\n"
          ],
          "name": "stderr"
        }
      ]
    },
    {
      "cell_type": "markdown",
      "metadata": {
        "id": "I9-N2prJdxpw"
      },
      "source": [
        "## dev set"
      ]
    },
    {
      "cell_type": "code",
      "metadata": {
        "colab": {
          "base_uri": "https://localhost:8080/"
        },
        "id": "vxAe0xZacsYw",
        "outputId": "8f537b09-fff7-4b5a-e545-548e63410ce0"
      },
      "source": [
        "y_pred = lr.predict(x_test) \n",
        "print(classification_report(y_test, y_pred,digits=3))"
      ],
      "execution_count": 32,
      "outputs": [
        {
          "output_type": "stream",
          "text": [
            "              precision    recall  f1-score   support\n",
            "\n",
            "         NOT      0.892     0.944     0.917       536\n",
            "         OFF      0.655     0.483     0.556       118\n",
            "\n",
            "    accuracy                          0.861       654\n",
            "   macro avg      0.774     0.714     0.737       654\n",
            "weighted avg      0.850     0.861     0.852       654\n",
            "\n"
          ],
          "name": "stdout"
        }
      ]
    },
    {
      "cell_type": "markdown",
      "metadata": {
        "id": "sxYOAaobd1Ne"
      },
      "source": [
        "## test set"
      ]
    },
    {
      "cell_type": "code",
      "metadata": {
        "colab": {
          "base_uri": "https://localhost:8080/",
          "height": 279
        },
        "id": "bdPY-G9HdCun",
        "outputId": "33a8e9cf-39a3-4b2d-8418-53f7ae597715"
      },
      "source": [
        "from sklearn.metrics import classification_report, confusion_matrix\n",
        "import seaborn as sn\n",
        "import matplotlib.pyplot as plt\n",
        "import numpy as np\n",
        "\n",
        "\n",
        "data = {'y_Actual':  y_test  ,\n",
        "        'y_Predicted': y_pred\n",
        "        }\n",
        "\n",
        "df = pd.DataFrame(data, columns=['y_Actual','y_Predicted'])\n",
        "confusion_matrix = pd.crosstab(df['y_Actual'], df['y_Predicted'], rownames=['Actual'], colnames=['Predicted'])\n",
        "sn.heatmap(confusion_matrix/np.sum(confusion_matrix), annot=True,fmt='.3%', cmap='Blues')\n",
        "plt.show()"
      ],
      "execution_count": 37,
      "outputs": [
        {
          "output_type": "display_data",
          "data": {
            "image/png": "[encoded data removed]",
            "text/plain": [
              "<Figure size 432x288 with 2 Axes>"
            ]
          },
          "metadata": {
            "tags": [],
            "needs_background": "light"
          }
        }
      ]
    },
    {
      "cell_type": "code",
      "metadata": {
        "execution": {
          "iopub.status.busy": "2021-06-24T07:15:16.831003Z",
          "iopub.execute_input": "2021-06-24T07:15:16.831588Z",
          "iopub.status.idle": "2021-06-24T07:15:16.877770Z",
          "shell.execute_reply.started": "2021-06-24T07:15:16.831496Z",
          "shell.execute_reply": "2021-06-24T07:15:16.876565Z"
        },
        "trusted": true,
        "colab": {
          "base_uri": "https://localhost:8080/",
          "height": 54
        },
        "id": "233hpiZMVxAG",
        "outputId": "09ebf0ad-0be8-4b29-cb67-205c439242f7"
      },
      "source": [
        "'''test1=test_t2_mal\n",
        "test1=test1.drop(['cleaned'],axis=1)\n",
        "y_pred=lr.predict(x_test)\n",
        "test1['label']=y_pred\n",
        "test1.to_csv('t2_mal_lr.tsv',sep='\\t')\n",
        "print(len(test1))\n",
        "\n",
        "test1.head()'''"
      ],
      "execution_count": 38,
      "outputs": [
        {
          "output_type": "execute_result",
          "data": {
            "application/vnd.google.colaboratory.intrinsic+json": {
              "type": "string"
            },
            "text/plain": [
              "\"test1=test_t2_mal\\ntest1=test1.drop(['cleaned'],axis=1)\\ny_pred=lr.predict(x_test)\\ntest1['label']=y_pred\\ntest1.to_csv('t2_mal_lr.tsv',sep='\\t')\\nprint(len(test1))\\n\\ntest1.head()\""
            ]
          },
          "metadata": {
            "tags": []
          },
          "execution_count": 38
        }
      ]
    },
    {
      "cell_type": "code",
      "metadata": {
        "id": "YisT8V_gVxAH"
      },
      "source": [
        ""
      ],
      "execution_count": null,
      "outputs": []
    },
    {
      "cell_type": "code",
      "metadata": {
        "execution": {
          "iopub.status.busy": "2021-06-24T07:15:26.979329Z",
          "iopub.execute_input": "2021-06-24T07:15:26.979774Z",
          "iopub.status.idle": "2021-06-24T07:17:24.113406Z",
          "shell.execute_reply.started": "2021-06-24T07:15:26.979731Z",
          "shell.execute_reply": "2021-06-24T07:17:24.112017Z"
        },
        "trusted": true,
        "colab": {
          "base_uri": "https://localhost:8080/"
        },
        "id": "e1Hi12nBVxAH",
        "outputId": "37285a05-9afe-474a-a367-57971c2b8a3c"
      },
      "source": [
        "svm_clf=SVC(kernel='linear',probability=True)\n",
        "svm_clf.fit(x_train, y_train)\n",
        "y_pred = svm_clf.predict(x_dev)\n",
        "print(classification_report(y_dev, y_pred,digits=4))"
      ],
      "execution_count": 39,
      "outputs": [
        {
          "output_type": "stream",
          "text": [
            "              precision    recall  f1-score   support\n",
            "\n",
            "         NOT     0.9910    0.9975    0.9942      4724\n",
            "   NOT-TAMIL     1.0000    1.0000    1.0000         3\n",
            "         OFF     0.9893    0.9627    0.9758      1153\n",
            "\n",
            "    accuracy                         0.9906      5880\n",
            "   macro avg     0.9934    0.9867    0.9900      5880\n",
            "weighted avg     0.9906    0.9906    0.9906      5880\n",
            "\n"
          ],
          "name": "stdout"
        }
      ]
    },
    {
      "cell_type": "code",
      "metadata": {
        "colab": {
          "base_uri": "https://localhost:8080/",
          "height": 444
        },
        "id": "5yFa0duzd_nA",
        "outputId": "a013ce90-cd1b-43cb-cab4-603a17e5e6e9"
      },
      "source": [
        "y_pred = svm_clf.predict(x_test)\n",
        "print(classification_report(y_test, y_pred,digits=3))\n",
        "\n",
        "data = {'y_Actual':  y_test  ,\n",
        "        'y_Predicted': y_pred\n",
        "        }\n",
        "\n",
        "df = pd.DataFrame(data, columns=['y_Actual','y_Predicted'])\n",
        "confusion_matrix = pd.crosstab(df['y_Actual'], df['y_Predicted'], rownames=['Actual'], colnames=['Predicted'])\n",
        "sn.heatmap(confusion_matrix/np.sum(confusion_matrix), annot=True,fmt='.3%', cmap='Blues')\n",
        "plt.show()"
      ],
      "execution_count": 40,
      "outputs": [
        {
          "output_type": "stream",
          "text": [
            "              precision    recall  f1-score   support\n",
            "\n",
            "         NOT      0.887     0.938     0.912       536\n",
            "         OFF      0.621     0.458     0.527       118\n",
            "\n",
            "    accuracy                          0.852       654\n",
            "   macro avg      0.754     0.698     0.719       654\n",
            "weighted avg      0.839     0.852     0.843       654\n",
            "\n"
          ],
          "name": "stdout"
        },
        {
          "output_type": "display_data",
          "data": {
            "image/png": "[encoded data removed]",
            "text/plain": [
              "<Figure size 432x288 with 2 Axes>"
            ]
          },
          "metadata": {
            "tags": [],
            "needs_background": "light"
          }
        }
      ]
    },
    {
      "cell_type": "code",
      "metadata": {
        "execution": {
          "iopub.status.busy": "2021-06-24T07:17:24.116152Z",
          "iopub.execute_input": "2021-06-24T07:17:24.116609Z",
          "iopub.status.idle": "2021-06-24T07:17:28.948818Z",
          "shell.execute_reply.started": "2021-06-24T07:17:24.116564Z",
          "shell.execute_reply": "2021-06-24T07:17:28.947635Z"
        },
        "trusted": true,
        "colab": {
          "base_uri": "https://localhost:8080/",
          "height": 54
        },
        "id": "CbOId4cVVxAH",
        "outputId": "22d42e87-c135-4093-f39d-ea49678b0ad3"
      },
      "source": [
        "'''test1=test_t2_mal\n",
        "test1=test1.drop(['cleaned'],axis=1)\n",
        "y_pred=svm_clf.predict(x_test)\n",
        "test1['label']=y_pred\n",
        "test1.to_csv('t2_mal_lsvc.tsv',sep='\\t')\n",
        "print(len(test1))\n",
        "\n",
        "test1.head()'''"
      ],
      "execution_count": 41,
      "outputs": [
        {
          "output_type": "execute_result",
          "data": {
            "application/vnd.google.colaboratory.intrinsic+json": {
              "type": "string"
            },
            "text/plain": [
              "\"test1=test_t2_mal\\ntest1=test1.drop(['cleaned'],axis=1)\\ny_pred=svm_clf.predict(x_test)\\ntest1['label']=y_pred\\ntest1.to_csv('t2_mal_lsvc.tsv',sep='\\t')\\nprint(len(test1))\\n\\ntest1.head()\""
            ]
          },
          "metadata": {
            "tags": []
          },
          "execution_count": 41
        }
      ]
    },
    {
      "cell_type": "code",
      "metadata": {
        "execution": {
          "iopub.status.busy": "2021-06-24T07:17:28.953098Z",
          "iopub.execute_input": "2021-06-24T07:17:28.953393Z",
          "iopub.status.idle": "2021-06-24T07:18:31.631803Z",
          "shell.execute_reply.started": "2021-06-24T07:17:28.953364Z",
          "shell.execute_reply": "2021-06-24T07:18:31.629260Z"
        },
        "trusted": true,
        "colab": {
          "base_uri": "https://localhost:8080/"
        },
        "id": "RAQMqFsaVxAI",
        "outputId": "336436a0-9aac-46ce-a04a-4dda33a10b30"
      },
      "source": [
        "from sklearn.ensemble import RandomForestClassifier\n",
        "\n",
        "model=RandomForestClassifier(n_estimators=1000)\n",
        "model.fit(x_train, y_train)\n",
        "y_pred = model.predict(x_dev)\n",
        "print(classification_report(y_dev, y_pred,digits=4))"
      ],
      "execution_count": 42,
      "outputs": [
        {
          "output_type": "stream",
          "text": [
            "              precision    recall  f1-score   support\n",
            "\n",
            "         NOT     0.9989    0.9998    0.9994      4724\n",
            "   NOT-TAMIL     1.0000    1.0000    1.0000         3\n",
            "         OFF     0.9991    0.9957    0.9974      1153\n",
            "\n",
            "    accuracy                         0.9990      5880\n",
            "   macro avg     0.9994    0.9985    0.9989      5880\n",
            "weighted avg     0.9990    0.9990    0.9990      5880\n",
            "\n"
          ],
          "name": "stdout"
        }
      ]
    },
    {
      "cell_type": "code",
      "metadata": {
        "colab": {
          "base_uri": "https://localhost:8080/",
          "height": 444
        },
        "id": "vXyBBtPreOWL",
        "outputId": "09f80206-392f-43a4-b1b9-2573a5782e99"
      },
      "source": [
        "y_pred = model.predict(x_test)\n",
        "print(classification_report(y_test, y_pred,digits=3))\n",
        "\n",
        "data = {'y_Actual':  y_test  ,\n",
        "        'y_Predicted': y_pred\n",
        "        }\n",
        "\n",
        "df = pd.DataFrame(data, columns=['y_Actual','y_Predicted'])\n",
        "confusion_matrix = pd.crosstab(df['y_Actual'], df['y_Predicted'], rownames=['Actual'], colnames=['Predicted'])\n",
        "sn.heatmap(confusion_matrix/np.sum(confusion_matrix), annot=True,fmt='.3%', cmap='Blues')\n",
        "plt.show()"
      ],
      "execution_count": 43,
      "outputs": [
        {
          "output_type": "stream",
          "text": [
            "              precision    recall  f1-score   support\n",
            "\n",
            "         NOT      0.853     0.981     0.912       536\n",
            "         OFF      0.730     0.229     0.348       118\n",
            "\n",
            "    accuracy                          0.846       654\n",
            "   macro avg      0.791     0.605     0.630       654\n",
            "weighted avg      0.830     0.846     0.811       654\n",
            "\n"
          ],
          "name": "stdout"
        },
        {
          "output_type": "display_data",
          "data": {
            "image/png": "[encoded data removed]",
            "text/plain": [
              "<Figure size 432x288 with 2 Axes>"
            ]
          },
          "metadata": {
            "tags": [],
            "needs_background": "light"
          }
        }
      ]
    },
    {
      "cell_type": "code",
      "metadata": {
        "execution": {
          "iopub.status.busy": "2021-06-24T07:18:31.633634Z",
          "iopub.execute_input": "2021-06-24T07:18:31.634240Z",
          "iopub.status.idle": "2021-06-24T07:18:33.857365Z",
          "shell.execute_reply.started": "2021-06-24T07:18:31.634179Z",
          "shell.execute_reply": "2021-06-24T07:18:33.856279Z"
        },
        "trusted": true,
        "colab": {
          "base_uri": "https://localhost:8080/",
          "height": 54
        },
        "id": "FBTCipNIVxAI",
        "outputId": "e42fcdda-4ec6-4027-fa49-5bc0f64e2eb0"
      },
      "source": [
        "'''test1=test_t2_mal\n",
        "test1=test1.drop(['cleaned'],axis=1)\n",
        "y_pred=model.predict(x_test)\n",
        "test1['label']=y_pred\n",
        "test1.to_csv('t2_mal_rfc.tsv',sep='\\t')\n",
        "print(len(test1))\n",
        "\n",
        "test1.head()'''"
      ],
      "execution_count": 44,
      "outputs": [
        {
          "output_type": "execute_result",
          "data": {
            "application/vnd.google.colaboratory.intrinsic+json": {
              "type": "string"
            },
            "text/plain": [
              "\"test1=test_t2_mal\\ntest1=test1.drop(['cleaned'],axis=1)\\ny_pred=model.predict(x_test)\\ntest1['label']=y_pred\\ntest1.to_csv('t2_mal_rfc.tsv',sep='\\t')\\nprint(len(test1))\\n\\ntest1.head()\""
            ]
          },
          "metadata": {
            "tags": []
          },
          "execution_count": 44
        }
      ]
    },
    {
      "cell_type": "code",
      "metadata": {
        "execution": {
          "iopub.status.busy": "2021-06-24T07:18:33.862196Z",
          "iopub.execute_input": "2021-06-24T07:18:33.862492Z",
          "iopub.status.idle": "2021-06-24T07:21:39.138213Z",
          "shell.execute_reply.started": "2021-06-24T07:18:33.862463Z",
          "shell.execute_reply": "2021-06-24T07:21:39.136789Z"
        },
        "trusted": true,
        "colab": {
          "base_uri": "https://localhost:8080/"
        },
        "id": "1VdZ-vTbVxAK",
        "outputId": "aa539d04-c889-4eaa-fd83-7b4bc96dc38b"
      },
      "source": [
        "from sklearn.ensemble import VotingClassifier\n",
        "from sklearn.neural_network import MLPClassifier\n",
        "from sklearn.linear_model import LogisticRegression\n",
        "from sklearn.svm import LinearSVC,SVC\n",
        "from sklearn.metrics import accuracy_score, confusion_matrix, classification_report, f1_score\n",
        "from sklearn.multiclass import OneVsRestClassifier\n",
        "import xgboost as xgb\n",
        "from sklearn.linear_model import SGDClassifier\n",
        "\n",
        "\n",
        "\n",
        "#mnb=MultinomialNB()\n",
        "mlp=RandomForestClassifier(n_estimators=1000)\n",
        "xgb_clf=SVC(kernel='linear',probability=True)\n",
        "lr=LogisticRegression()\n",
        "estimators=[('lr', lr), ('mlp', mlp),('xgb', xgb_clf)]\n",
        "clf = VotingClassifier(estimators, voting='soft')\n",
        "ensemble =clf\n",
        "\n",
        "\n",
        "ensemble.fit(x_train, y_train)\n",
        "\n",
        "y_pred = ensemble.predict(x_dev) \n",
        "print(classification_report(y_dev, y_pred,digits=4))"
      ],
      "execution_count": 45,
      "outputs": [
        {
          "output_type": "stream",
          "text": [
            "              precision    recall  f1-score   support\n",
            "\n",
            "         NOT     0.9918    0.9987    0.9953      4724\n",
            "   NOT-TAMIL     0.0000    0.0000    0.0000         3\n",
            "         OFF     0.9947    0.9688    0.9815      1153\n",
            "\n",
            "    accuracy                         0.9923      5880\n",
            "   macro avg     0.6622    0.6558    0.6589      5880\n",
            "weighted avg     0.9919    0.9923    0.9921      5880\n",
            "\n"
          ],
          "name": "stdout"
        },
        {
          "output_type": "stream",
          "text": [
            "/usr/local/lib/python3.7/dist-packages/sklearn/metrics/_classification.py:1272: UndefinedMetricWarning: Precision and F-score are ill-defined and being set to 0.0 in labels with no predicted samples. Use `zero_division` parameter to control this behavior.\n",
            "  _warn_prf(average, modifier, msg_start, len(result))\n"
          ],
          "name": "stderr"
        }
      ]
    },
    {
      "cell_type": "code",
      "metadata": {
        "colab": {
          "base_uri": "https://localhost:8080/",
          "height": 444
        },
        "id": "JIj1SgLHecm4",
        "outputId": "379f1675-f29d-4c46-8c6a-ae1914e91d13"
      },
      "source": [
        "y_pred = ensemble.predict(x_test) \n",
        "print(classification_report(y_test, y_pred,digits=3))\n",
        "\n",
        "data = {'y_Actual':  y_test  ,\n",
        "        'y_Predicted': y_pred\n",
        "        }\n",
        "\n",
        "df = pd.DataFrame(data, columns=['y_Actual','y_Predicted'])\n",
        "confusion_matrix = pd.crosstab(df['y_Actual'], df['y_Predicted'], rownames=['Actual'], colnames=['Predicted'])\n",
        "sn.heatmap(confusion_matrix/np.sum(confusion_matrix), annot=True,fmt='.3%', cmap='Blues')\n",
        "plt.show()"
      ],
      "execution_count": 46,
      "outputs": [
        {
          "output_type": "stream",
          "text": [
            "              precision    recall  f1-score   support\n",
            "\n",
            "         NOT      0.875     0.968     0.919       536\n",
            "         OFF      0.721     0.373     0.492       118\n",
            "\n",
            "    accuracy                          0.861       654\n",
            "   macro avg      0.798     0.671     0.706       654\n",
            "weighted avg      0.847     0.861     0.842       654\n",
            "\n"
          ],
          "name": "stdout"
        },
        {
          "output_type": "display_data",
          "data": {
            "image/png": "[encoded data removed]",
            "text/plain": [
              "<Figure size 432x288 with 2 Axes>"
            ]
          },
          "metadata": {
            "tags": [],
            "needs_background": "light"
          }
        }
      ]
    },
    {
      "cell_type": "code",
      "metadata": {
        "execution": {
          "iopub.status.busy": "2021-06-24T07:21:39.140453Z",
          "iopub.execute_input": "2021-06-24T07:21:39.140942Z",
          "iopub.status.idle": "2021-06-24T07:21:46.609920Z",
          "shell.execute_reply.started": "2021-06-24T07:21:39.140895Z",
          "shell.execute_reply": "2021-06-24T07:21:46.607085Z"
        },
        "trusted": true,
        "id": "uMfpFQIbVxAL",
        "outputId": "956649cb-99c0-4b11-9754-2c6dabb150e5"
      },
      "source": [
        "'''test1=test_t2_mal\n",
        "test1=test1.drop(['cleaned'],axis=1)\n",
        "y_pred=ensemble.predict(x_test)\n",
        "test1['label']=y_pred\n",
        "test1.to_csv('t2_mal_ensemble.tsv',sep='\\t')\n",
        "print(len(test1))\n",
        "\n",
        "test1.head()'''"
      ],
      "execution_count": null,
      "outputs": [
        {
          "output_type": "stream",
          "text": [
            "999\n"
          ],
          "name": "stdout"
        },
        {
          "output_type": "execute_result",
          "data": {
            "text/plain": [
              "          ID                                             Tweets label\n",
              "0  MA_YT6001  athe beharyku deputationil pokam pinarai vijay...   NOT\n",
              "1  MA_YT6002  USER cheruparamadathil than thinnunnath alla p...   NOT\n",
              "2  MA_YT6003  USER cheruparamadathilpinaraayi shournuril oru...   NOT\n",
              "3  MA_YT6004  USER vk pinarai thinnunnathu ninte okke theett...   OFF\n",
              "4  MA_YT6005  USER george thante ammade poottile pooda kalay...   OFF"
            ],
            "text/html": [
              "<div>\n",
              "<style scoped>\n",
              "    .dataframe tbody tr th:only-of-type {\n",
              "        vertical-align: middle;\n",
              "    }\n",
              "\n",
              "    .dataframe tbody tr th {\n",
              "        vertical-align: top;\n",
              "    }\n",
              "\n",
              "    .dataframe thead th {\n",
              "        text-align: right;\n",
              "    }\n",
              "</style>\n",
              "<table border=\"1\" class=\"dataframe\">\n",
              "  <thead>\n",
              "    <tr style=\"text-align: right;\">\n",
              "      <th></th>\n",
              "      <th>ID</th>\n",
              "      <th>Tweets</th>\n",
              "      <th>label</th>\n",
              "    </tr>\n",
              "  </thead>\n",
              "  <tbody>\n",
              "    <tr>\n",
              "      <th>0</th>\n",
              "      <td>MA_YT6001</td>\n",
              "      <td>athe beharyku deputationil pokam pinarai vijay...</td>\n",
              "      <td>NOT</td>\n",
              "    </tr>\n",
              "    <tr>\n",
              "      <th>1</th>\n",
              "      <td>MA_YT6002</td>\n",
              "      <td>USER cheruparamadathil than thinnunnath alla p...</td>\n",
              "      <td>NOT</td>\n",
              "    </tr>\n",
              "    <tr>\n",
              "      <th>2</th>\n",
              "      <td>MA_YT6003</td>\n",
              "      <td>USER cheruparamadathilpinaraayi shournuril oru...</td>\n",
              "      <td>NOT</td>\n",
              "    </tr>\n",
              "    <tr>\n",
              "      <th>3</th>\n",
              "      <td>MA_YT6004</td>\n",
              "      <td>USER vk pinarai thinnunnathu ninte okke theett...</td>\n",
              "      <td>OFF</td>\n",
              "    </tr>\n",
              "    <tr>\n",
              "      <th>4</th>\n",
              "      <td>MA_YT6005</td>\n",
              "      <td>USER george thante ammade poottile pooda kalay...</td>\n",
              "      <td>OFF</td>\n",
              "    </tr>\n",
              "  </tbody>\n",
              "</table>\n",
              "</div>"
            ]
          },
          "metadata": {
            "tags": []
          },
          "execution_count": 32
        }
      ]
    },
    {
      "cell_type": "code",
      "metadata": {
        "id": "qxoN9S8rVxAL"
      },
      "source": [
        ""
      ],
      "execution_count": null,
      "outputs": []
    },
    {
      "cell_type": "code",
      "metadata": {
        "id": "TLmyy7V9VxAL"
      },
      "source": [
        "\n"
      ],
      "execution_count": null,
      "outputs": []
    },
    {
      "cell_type": "markdown",
      "metadata": {
        "id": "XivcdkzffcSX"
      },
      "source": [
        "# Tamil *task2*"
      ]
    },
    {
      "cell_type": "markdown",
      "metadata": {
        "id": "ezJCs9d7ieyW"
      },
      "source": [
        ""
      ]
    },
    {
      "cell_type": "code",
      "metadata": {
        "colab": {
          "base_uri": "https://localhost:8080/"
        },
        "id": "AblfH2m7feF_",
        "outputId": "cc7da682-0767-47e4-c991-661821171d1d"
      },
      "source": [
        "tr=train_t2_tamil\n",
        "dev=dev_t2_tamil\n",
        "te=test_t2_tamil\n",
        "\n",
        "y_train=[x.upper() for x in tr.category]\n",
        "y_dev=[x.upper() for x in dev.Labels]\n",
        "y_test=[x.strip() for x in te.category]\n",
        "\n",
        "\n",
        "sentences=list(tr.cleaned)\n",
        "from scipy.sparse import hstack\n",
        "word_vectorizer = TfidfVectorizer(\n",
        "    sublinear_tf=True,\n",
        "    strip_accents='unicode',\n",
        "    analyzer='word',\n",
        "    ngram_range=(1, 3),\n",
        "    max_features=40000)\n",
        "word_vectorizer.fit(sentences)\n",
        "\n",
        "char_vectorizer = TfidfVectorizer(\n",
        "    sublinear_tf=True,\n",
        "    strip_accents='unicode',\n",
        "    analyzer='char',\n",
        "    ngram_range=(2, 5),\n",
        "    max_features=40000)\n",
        "char_vectorizer.fit(sentences)\n",
        "\n",
        "\n",
        "\n",
        "train_word_features = word_vectorizer.transform(tr.cleaned)\n",
        "dev_word_features = word_vectorizer.transform(dev.cleaned)\n",
        "test_word_features = word_vectorizer.transform(te.cleaned)\n",
        "\n",
        "\n",
        "train_char_features = char_vectorizer.transform(tr.cleaned)\n",
        "dev_char_features = char_vectorizer.transform(dev.cleaned)\n",
        "test_char_features = char_vectorizer.transform(te.cleaned)\n",
        "\n",
        "\n",
        "\n",
        "\n",
        "x_train = hstack([train_char_features, train_word_features])#,train_sn_features])\n",
        "x_dev=hstack([dev_char_features, dev_word_features])\n",
        "x_test = hstack([test_char_features, test_word_features])#,test_sn_features])\n",
        "\n",
        "\n",
        "         \n",
        "x_train.shape,x_dev.shape,x_test.shape"
      ],
      "execution_count": 56,
      "outputs": [
        {
          "output_type": "execute_result",
          "data": {
            "text/plain": [
              "((3999, 80000), (940, 80000), (1000, 80000))"
            ]
          },
          "metadata": {
            "tags": []
          },
          "execution_count": 56
        }
      ]
    },
    {
      "cell_type": "code",
      "metadata": {
        "colab": {
          "base_uri": "https://localhost:8080/"
        },
        "id": "49RnyZMQgC3x",
        "outputId": "0a4b56c9-fadf-4923-cca3-2d82a948979d"
      },
      "source": [
        "lr=LogisticRegression(C=30)\n",
        "lr.fit(x_train, y_train)\n",
        "y_pred = lr.predict(x_dev) \n",
        "print(classification_report(y_dev, y_pred,digits=4))"
      ],
      "execution_count": 57,
      "outputs": [
        {
          "output_type": "stream",
          "text": [
            "              precision    recall  f1-score   support\n",
            "\n",
            "         NOT     0.8845    0.8731    0.8788       465\n",
            "         OFF     0.8773    0.8884    0.8828       475\n",
            "\n",
            "    accuracy                         0.8809       940\n",
            "   macro avg     0.8809    0.8808    0.8808       940\n",
            "weighted avg     0.8809    0.8809    0.8808       940\n",
            "\n"
          ],
          "name": "stdout"
        }
      ]
    },
    {
      "cell_type": "code",
      "metadata": {
        "colab": {
          "base_uri": "https://localhost:8080/",
          "height": 444
        },
        "id": "ZIH-7wEXgLOY",
        "outputId": "564de330-a973-4b85-8cfc-a7285ee881fe"
      },
      "source": [
        "y_pred = lr.predict(x_test) \n",
        "print(classification_report(y_test, y_pred,digits=3))\n",
        "\n",
        "data = {'y_Actual':  y_test  ,\n",
        "        'y_Predicted': y_pred\n",
        "        }\n",
        "\n",
        "df = pd.DataFrame(data, columns=['y_Actual','y_Predicted'])\n",
        "confusion_matrix = pd.crosstab(df['y_Actual'], df['y_Predicted'], rownames=['Actual'], colnames=['Predicted'])\n",
        "sn.heatmap(confusion_matrix/np.sum(confusion_matrix), annot=True,fmt='.3%', cmap='Blues')\n",
        "plt.show()"
      ],
      "execution_count": 58,
      "outputs": [
        {
          "output_type": "stream",
          "text": [
            "              precision    recall  f1-score   support\n",
            "\n",
            "         NOT      0.714     0.798     0.754       605\n",
            "         OFF      0.623     0.511     0.562       395\n",
            "\n",
            "    accuracy                          0.685      1000\n",
            "   macro avg      0.669     0.655     0.658      1000\n",
            "weighted avg      0.679     0.685     0.678      1000\n",
            "\n"
          ],
          "name": "stdout"
        },
        {
          "output_type": "display_data",
          "data": {
            "image/png": "[encoded data removed]",
            "text/plain": [
              "<Figure size 432x288 with 2 Axes>"
            ]
          },
          "metadata": {
            "tags": [],
            "needs_background": "light"
          }
        }
      ]
    },
    {
      "cell_type": "code",
      "metadata": {
        "colab": {
          "base_uri": "https://localhost:8080/",
          "height": 611
        },
        "id": "qE0jgVuugXnv",
        "outputId": "f179f2be-5188-4786-d63e-8a272770be3f"
      },
      "source": [
        "svm_clf=SVC(kernel='linear',probability=True)\n",
        "svm_clf.fit(x_train, y_train)\n",
        "y_pred = svm_clf.predict(x_dev)\n",
        "print(classification_report(y_dev, y_pred,digits=3))\n",
        "\n",
        "y_pred = svm_clf.predict(x_test)\n",
        "print(classification_report(y_test, y_pred,digits=3))\n",
        "\n",
        "data = {'y_Actual':  y_test  ,\n",
        "        'y_Predicted': y_pred\n",
        "        }\n",
        "\n",
        "df = pd.DataFrame(data, columns=['y_Actual','y_Predicted'])\n",
        "confusion_matrix = pd.crosstab(df['y_Actual'], df['y_Predicted'], rownames=['Actual'], colnames=['Predicted'])\n",
        "sn.heatmap(confusion_matrix/np.sum(confusion_matrix), annot=True,fmt='.3%', cmap='Blues')\n",
        "plt.show()"
      ],
      "execution_count": 59,
      "outputs": [
        {
          "output_type": "stream",
          "text": [
            "              precision    recall  f1-score   support\n",
            "\n",
            "         NOT      0.874     0.849     0.862       465\n",
            "         OFF      0.857     0.880     0.868       475\n",
            "\n",
            "    accuracy                          0.865       940\n",
            "   macro avg      0.865     0.865     0.865       940\n",
            "weighted avg      0.865     0.865     0.865       940\n",
            "\n",
            "              precision    recall  f1-score   support\n",
            "\n",
            "         NOT      0.707     0.782     0.743       605\n",
            "         OFF      0.601     0.504     0.548       395\n",
            "\n",
            "    accuracy                          0.672      1000\n",
            "   macro avg      0.654     0.643     0.645      1000\n",
            "weighted avg      0.665     0.672     0.666      1000\n",
            "\n"
          ],
          "name": "stdout"
        },
        {
          "output_type": "display_data",
          "data": {
            "image/png": "[encoded data removed]",
            "text/plain": [
              "<Figure size 432x288 with 2 Axes>"
            ]
          },
          "metadata": {
            "tags": [],
            "needs_background": "light"
          }
        }
      ]
    },
    {
      "cell_type": "code",
      "metadata": {
        "colab": {
          "base_uri": "https://localhost:8080/",
          "height": 610
        },
        "id": "-pKmbBdqgvC0",
        "outputId": "af8ee0a3-9c7b-4a43-eb57-ed6321bcca5d"
      },
      "source": [
        "model=RandomForestClassifier(n_estimators=1000)\n",
        "model.fit(x_train, y_train)\n",
        "y_pred = model.predict(x_dev)\n",
        "print(classification_report(y_dev, y_pred,digits=4))\n",
        "\n",
        "y_pred = model.predict(x_test)\n",
        "print(classification_report(y_test, y_pred,digits=3))\n",
        "\n",
        "data = {'y_Actual':  y_test  ,\n",
        "        'y_Predicted': y_pred\n",
        "        }\n",
        "\n",
        "df = pd.DataFrame(data, columns=['y_Actual','y_Predicted'])\n",
        "confusion_matrix = pd.crosstab(df['y_Actual'], df['y_Predicted'], rownames=['Actual'], colnames=['Predicted'])\n",
        "sn.heatmap(confusion_matrix/np.sum(confusion_matrix), annot=True,fmt='.3%', cmap='Blues')\n",
        "plt.show()"
      ],
      "execution_count": 60,
      "outputs": [
        {
          "output_type": "stream",
          "text": [
            "              precision    recall  f1-score   support\n",
            "\n",
            "         NOT     0.9051    0.8000    0.8493       465\n",
            "         OFF     0.8242    0.9179    0.8685       475\n",
            "\n",
            "    accuracy                         0.8596       940\n",
            "   macro avg     0.8647    0.8589    0.8589       940\n",
            "weighted avg     0.8642    0.8596    0.8590       940\n",
            "\n",
            "              precision    recall  f1-score   support\n",
            "\n",
            "         NOT      0.696     0.613     0.652       605\n",
            "         OFF      0.499     0.590     0.541       395\n",
            "\n",
            "    accuracy                          0.604      1000\n",
            "   macro avg      0.597     0.602     0.596      1000\n",
            "weighted avg      0.618     0.604     0.608      1000\n",
            "\n"
          ],
          "name": "stdout"
        },
        {
          "output_type": "display_data",
          "data": {
            "image/png": "[encoded data removed]",
            "text/plain": [
              "<Figure size 432x288 with 2 Axes>"
            ]
          },
          "metadata": {
            "tags": [],
            "needs_background": "light"
          }
        }
      ]
    },
    {
      "cell_type": "code",
      "metadata": {
        "id": "YJNoQla1hIBi"
      },
      "source": [
        ""
      ],
      "execution_count": 60,
      "outputs": []
    },
    {
      "cell_type": "code",
      "metadata": {
        "colab": {
          "base_uri": "https://localhost:8080/",
          "height": 610
        },
        "id": "RavsK23nhLqL",
        "outputId": "4ba4e9a6-3a1e-4e90-dc6b-2f92ba0904f3"
      },
      "source": [
        "ensemble.fit(x_train, y_train)\n",
        "\n",
        "y_pred = ensemble.predict(x_dev) \n",
        "print(classification_report(y_dev, y_pred,digits=4))\n",
        "\n",
        "y_pred = ensemble.predict(x_test) \n",
        "print(classification_report(y_test, y_pred,digits=3))\n",
        "\n",
        "data = {'y_Actual':  y_test  ,\n",
        "        'y_Predicted': y_pred\n",
        "        }\n",
        "\n",
        "df = pd.DataFrame(data, columns=['y_Actual','y_Predicted'])\n",
        "confusion_matrix = pd.crosstab(df['y_Actual'], df['y_Predicted'], rownames=['Actual'], colnames=['Predicted'])\n",
        "sn.heatmap(confusion_matrix/np.sum(confusion_matrix), annot=True,fmt='.3%', cmap='Blues')\n",
        "plt.show()"
      ],
      "execution_count": 61,
      "outputs": [
        {
          "output_type": "stream",
          "text": [
            "              precision    recall  f1-score   support\n",
            "\n",
            "         NOT     0.8939    0.8516    0.8722       465\n",
            "         OFF     0.8612    0.9011    0.8807       475\n",
            "\n",
            "    accuracy                         0.8766       940\n",
            "   macro avg     0.8775    0.8763    0.8765       940\n",
            "weighted avg     0.8774    0.8766    0.8765       940\n",
            "\n",
            "              precision    recall  f1-score   support\n",
            "\n",
            "         NOT      0.723     0.767     0.744       605\n",
            "         OFF      0.606     0.549     0.576       395\n",
            "\n",
            "    accuracy                          0.681      1000\n",
            "   macro avg      0.664     0.658     0.660      1000\n",
            "weighted avg      0.677     0.681     0.678      1000\n",
            "\n"
          ],
          "name": "stdout"
        },
        {
          "output_type": "display_data",
          "data": {
            "image/png": "[encoded data removed]",
            "text/plain": [
              "<Figure size 432x288 with 2 Axes>"
            ]
          },
          "metadata": {
            "tags": [],
            "needs_background": "light"
          }
        }
      ]
    },
    {
      "cell_type": "code",
      "metadata": {
        "id": "j2ZKLz7iiKFo"
      },
      "source": [
        ""
      ],
      "execution_count": null,
      "outputs": []
    },
    {
      "cell_type": "code",
      "metadata": {
        "id": "Pkvx73MBiaHY"
      },
      "source": [
        ""
      ],
      "execution_count": null,
      "outputs": []
    },
    {
      "cell_type": "markdown",
      "metadata": {
        "id": "rGr4fI_7ihGX"
      },
      "source": [
        "# Mal task2"
      ]
    },
    {
      "cell_type": "code",
      "metadata": {
        "colab": {
          "base_uri": "https://localhost:8080/"
        },
        "id": "S4EFHzE8ijUv",
        "outputId": "9b3da7e5-11ac-4fcd-f02b-2c89b24c86d8"
      },
      "source": [
        "tr=train_t2_mal\n",
        "dev=dev_t2_mal\n",
        "te=test_t2_mal\n",
        "\n",
        "y_train=[x.upper() for x in tr.Labels]\n",
        "y_dev=[x.upper() for x in dev.Labels]\n",
        "yy=[]\n",
        "for i in  te.Labels:\n",
        "  if i == 'HOF': i='OFF'\n",
        "  yy.append(i)\n",
        "y_test=yy#[x.strip() for x in te.Labels]\n",
        "\n",
        "\n",
        "sentences=list(tr.cleaned)\n",
        "from scipy.sparse import hstack\n",
        "word_vectorizer = TfidfVectorizer(\n",
        "    sublinear_tf=True,\n",
        "    strip_accents='unicode',\n",
        "    analyzer='word',\n",
        "    ngram_range=(1, 3),\n",
        "    max_features=40000)\n",
        "word_vectorizer.fit(sentences)\n",
        "\n",
        "char_vectorizer = TfidfVectorizer(\n",
        "    sublinear_tf=True,\n",
        "    strip_accents='unicode',\n",
        "    analyzer='char',\n",
        "    ngram_range=(2, 5),\n",
        "    max_features=40000)\n",
        "char_vectorizer.fit(sentences)\n",
        "\n",
        "\n",
        "\n",
        "train_word_features = word_vectorizer.transform(tr.cleaned)\n",
        "dev_word_features = word_vectorizer.transform(dev.cleaned)\n",
        "test_word_features = word_vectorizer.transform(te.cleaned)\n",
        "\n",
        "\n",
        "train_char_features = char_vectorizer.transform(tr.cleaned)\n",
        "dev_char_features = char_vectorizer.transform(dev.cleaned)\n",
        "test_char_features = char_vectorizer.transform(te.cleaned)\n",
        "\n",
        "\n",
        "\n",
        "\n",
        "x_train = hstack([train_char_features, train_word_features])#,train_sn_features])\n",
        "x_dev=hstack([dev_char_features, dev_word_features])\n",
        "x_test = hstack([test_char_features, test_word_features])#,test_sn_features])\n",
        "\n",
        "\n",
        "         \n",
        "x_train.shape,x_dev.shape,x_test.shape"
      ],
      "execution_count": 67,
      "outputs": [
        {
          "output_type": "execute_result",
          "data": {
            "text/plain": [
              "((3999, 80000), (951, 80000), (999, 80000))"
            ]
          },
          "metadata": {
            "tags": []
          },
          "execution_count": 67
        }
      ]
    },
    {
      "cell_type": "code",
      "metadata": {
        "colab": {
          "base_uri": "https://localhost:8080/",
          "height": 610
        },
        "id": "1RrOJ-__i4s3",
        "outputId": "3e92f5ef-73cb-4ea6-e95a-973df04a0723"
      },
      "source": [
        "lr=LogisticRegression(C=30)\n",
        "lr.fit(x_train, y_train)\n",
        "y_pred = lr.predict(x_dev) \n",
        "print(classification_report(y_dev, y_pred,digits=4))\n",
        "\n",
        "y_pred = lr.predict(x_test) \n",
        "print(classification_report(y_test, y_pred,digits=3))\n",
        "\n",
        "data = {'y_Actual':  y_test  ,\n",
        "        'y_Predicted': y_pred\n",
        "        }\n",
        "\n",
        "df = pd.DataFrame(data, columns=['y_Actual','y_Predicted'])\n",
        "confusion_matrix = pd.crosstab(df['y_Actual'], df['y_Predicted'], rownames=['Actual'], colnames=['Predicted'])\n",
        "sn.heatmap(confusion_matrix/np.sum(confusion_matrix), annot=True,fmt='.3%', cmap='Blues')\n",
        "plt.show()\n",
        "\n"
      ],
      "execution_count": 68,
      "outputs": [
        {
          "output_type": "stream",
          "text": [
            "              precision    recall  f1-score   support\n",
            "\n",
            "         NOT     0.7381    0.7865    0.7615       473\n",
            "         OFF     0.7740    0.7238    0.7481       478\n",
            "\n",
            "    accuracy                         0.7550       951\n",
            "   macro avg     0.7561    0.7552    0.7548       951\n",
            "weighted avg     0.7562    0.7550    0.7548       951\n",
            "\n",
            "              precision    recall  f1-score   support\n",
            "\n",
            "         NOT      0.848     0.744     0.792       675\n",
            "         OFF      0.575     0.722     0.640       324\n",
            "\n",
            "    accuracy                          0.737       999\n",
            "   macro avg      0.711     0.733     0.716       999\n",
            "weighted avg      0.759     0.737     0.743       999\n",
            "\n"
          ],
          "name": "stdout"
        },
        {
          "output_type": "display_data",
          "data": {
            "image/png": "[encoded data removed]",
            "text/plain": [
              "<Figure size 432x288 with 2 Axes>"
            ]
          },
          "metadata": {
            "tags": [],
            "needs_background": "light"
          }
        }
      ]
    },
    {
      "cell_type": "code",
      "metadata": {
        "colab": {
          "base_uri": "https://localhost:8080/",
          "height": 610
        },
        "id": "0mCcE1OTjJ1w",
        "outputId": "425b0760-c3c7-401f-901f-1da233c1bf53"
      },
      "source": [
        "svm_clf=SVC(kernel='linear',probability=True)\n",
        "svm_clf.fit(x_train, y_train)\n",
        "y_pred = svm_clf.predict(x_dev)\n",
        "print(classification_report(y_dev, y_pred,digits=3))\n",
        "\n",
        "y_pred = svm_clf.predict(x_test)\n",
        "print(classification_report(y_test, y_pred,digits=3))\n",
        "\n",
        "data = {'y_Actual':  y_test  ,\n",
        "        'y_Predicted': y_pred\n",
        "        }\n",
        "\n",
        "df = pd.DataFrame(data, columns=['y_Actual','y_Predicted'])\n",
        "confusion_matrix = pd.crosstab(df['y_Actual'], df['y_Predicted'], rownames=['Actual'], colnames=['Predicted'])\n",
        "sn.heatmap(confusion_matrix/np.sum(confusion_matrix), annot=True,fmt='.3%', cmap='Blues')\n",
        "plt.show()"
      ],
      "execution_count": 69,
      "outputs": [
        {
          "output_type": "stream",
          "text": [
            "              precision    recall  f1-score   support\n",
            "\n",
            "         NOT      0.723     0.799     0.759       473\n",
            "         OFF      0.778     0.697     0.735       478\n",
            "\n",
            "    accuracy                          0.748       951\n",
            "   macro avg      0.750     0.748     0.747       951\n",
            "weighted avg      0.751     0.748     0.747       951\n",
            "\n",
            "              precision    recall  f1-score   support\n",
            "\n",
            "         NOT      0.848     0.720     0.779       675\n",
            "         OFF      0.556     0.731     0.632       324\n",
            "\n",
            "    accuracy                          0.724       999\n",
            "   macro avg      0.702     0.726     0.705       999\n",
            "weighted avg      0.754     0.724     0.731       999\n",
            "\n"
          ],
          "name": "stdout"
        },
        {
          "output_type": "display_data",
          "data": {
            "image/png": "[encoded data removed]",
            "text/plain": [
              "<Figure size 432x288 with 2 Axes>"
            ]
          },
          "metadata": {
            "tags": [],
            "needs_background": "light"
          }
        }
      ]
    },
    {
      "cell_type": "code",
      "metadata": {
        "colab": {
          "base_uri": "https://localhost:8080/",
          "height": 610
        },
        "id": "krXzPmgujNyv",
        "outputId": "02491b40-8c20-46dc-9747-39410c7a6f11"
      },
      "source": [
        "model=RandomForestClassifier(n_estimators=1000)\n",
        "model.fit(x_train, y_train)\n",
        "y_pred = model.predict(x_dev)\n",
        "print(classification_report(y_dev, y_pred,digits=4))\n",
        "\n",
        "y_pred = model.predict(x_test)\n",
        "print(classification_report(y_test, y_pred,digits=3))\n",
        "\n",
        "data = {'y_Actual':  y_test  ,\n",
        "        'y_Predicted': y_pred\n",
        "        }\n",
        "\n",
        "df = pd.DataFrame(data, columns=['y_Actual','y_Predicted'])\n",
        "confusion_matrix = pd.crosstab(df['y_Actual'], df['y_Predicted'], rownames=['Actual'], colnames=['Predicted'])\n",
        "sn.heatmap(confusion_matrix/np.sum(confusion_matrix), annot=True,fmt='.3%', cmap='Blues')\n",
        "plt.show()"
      ],
      "execution_count": 70,
      "outputs": [
        {
          "output_type": "stream",
          "text": [
            "              precision    recall  f1-score   support\n",
            "\n",
            "         NOT     0.7393    0.8753    0.8015       473\n",
            "         OFF     0.8491    0.6946    0.7641       478\n",
            "\n",
            "    accuracy                         0.7844       951\n",
            "   macro avg     0.7942    0.7849    0.7828       951\n",
            "weighted avg     0.7945    0.7844    0.7827       951\n",
            "\n",
            "              precision    recall  f1-score   support\n",
            "\n",
            "         NOT      0.832     0.807     0.820       675\n",
            "         OFF      0.622     0.660     0.641       324\n",
            "\n",
            "    accuracy                          0.760       999\n",
            "   macro avg      0.727     0.734     0.730       999\n",
            "weighted avg      0.764     0.760     0.762       999\n",
            "\n"
          ],
          "name": "stdout"
        },
        {
          "output_type": "display_data",
          "data": {
            "image/png": "[encoded data removed]",
            "text/plain": [
              "<Figure size 432x288 with 2 Axes>"
            ]
          },
          "metadata": {
            "tags": [],
            "needs_background": "light"
          }
        }
      ]
    },
    {
      "cell_type": "code",
      "metadata": {
        "colab": {
          "base_uri": "https://localhost:8080/",
          "height": 610
        },
        "id": "ZqSW2y5jjTVX",
        "outputId": "4aaba299-4c93-460b-dae1-c77d8bfc7e7a"
      },
      "source": [
        "ensemble.fit(x_train, y_train)\n",
        "\n",
        "y_pred = ensemble.predict(x_dev) \n",
        "print(classification_report(y_dev, y_pred,digits=4))\n",
        "\n",
        "y_pred = ensemble.predict(x_test) \n",
        "print(classification_report(y_test, y_pred,digits=3))\n",
        "\n",
        "data = {'y_Actual':  y_test  ,\n",
        "        'y_Predicted': y_pred\n",
        "        }\n",
        "\n",
        "df = pd.DataFrame(data, columns=['y_Actual','y_Predicted'])\n",
        "confusion_matrix = pd.crosstab(df['y_Actual'], df['y_Predicted'], rownames=['Actual'], colnames=['Predicted'])\n",
        "sn.heatmap(confusion_matrix/np.sum(confusion_matrix), annot=True,fmt='.3%', cmap='Blues')\n",
        "plt.show()"
      ],
      "execution_count": 71,
      "outputs": [
        {
          "output_type": "stream",
          "text": [
            "              precision    recall  f1-score   support\n",
            "\n",
            "         NOT     0.7481    0.8414    0.7920       473\n",
            "         OFF     0.8210    0.7197    0.7670       478\n",
            "\n",
            "    accuracy                         0.7802       951\n",
            "   macro avg     0.7846    0.7806    0.7795       951\n",
            "weighted avg     0.7848    0.7802    0.7795       951\n",
            "\n",
            "              precision    recall  f1-score   support\n",
            "\n",
            "         NOT      0.853     0.759     0.803       675\n",
            "         OFF      0.591     0.728     0.653       324\n",
            "\n",
            "    accuracy                          0.749       999\n",
            "   macro avg      0.722     0.743     0.728       999\n",
            "weighted avg      0.768     0.749     0.754       999\n",
            "\n"
          ],
          "name": "stdout"
        },
        {
          "output_type": "display_data",
          "data": {
            "image/png": "[encoded data removed]",
            "text/plain": [
              "<Figure size 432x288 with 2 Axes>"
            ]
          },
          "metadata": {
            "tags": [],
            "needs_background": "light"
          }
        }
      ]
    },
    {
      "cell_type": "code",
      "metadata": {
        "id": "xdBFfa2PjYD3"
      },
      "source": [
        ""
      ],
      "execution_count": 71,
      "outputs": []
    }
  ]
}